{
 "cells": [
  {
   "cell_type": "code",
   "execution_count": null,
   "id": "funky-queen",
   "metadata": {},
   "outputs": [],
   "source": [
    "from arquivo import makeSearch\n",
    "from newspaper import Article\n",
    "import text2emotion as te\n",
    "from google_trans_new import google_translator\n",
    "import requests\n",
    "\n",
    "translator = google_translator()\n",
    "\n",
    "news = makeSearch(\"jn.pt\", \"António Costa\")"
   ]
  },
  {
   "cell_type": "code",
   "execution_count": null,
   "id": "lovely-taxation",
   "metadata": {},
   "outputs": [],
   "source": [
    "if len(news) == 0:\n",
    "    print(\"No news found.\")\n",
    "for article in news:\n",
    "    print(\"\\n## - \", article['title'])\n",
    "    \n",
    "    req = requests.get(article['linkToNoFrame'])\n",
    "    print(\"Status code:\" , req.status_code, \"URL:\", article['linkToNoFrame'])\n",
    "    \n",
    "    a = Article(article['linkToNoFrame'])\n",
    "    \n",
    "    a.download()\n",
    "    a.parse()\n",
    "    if (\"Assinatura Diária*\" not in a.text):\n",
    "        print(a.text)\n",
    "        en = translator.translate(a.text, lang_tgt='en', lang_src='pt')\n",
    "        #print(en)\n",
    "        print(\"\\n\", te.get_emotion(en))\n",
    "    else: print(\"Requer assinatura :(\")"
   ]
  }
 ],
 "metadata": {
  "kernelspec": {
   "display_name": "Python 3",
   "language": "python",
   "name": "python3"
  },
  "language_info": {
   "codemirror_mode": {
    "name": "ipython",
    "version": 3
   },
   "file_extension": ".py",
   "mimetype": "text/x-python",
   "name": "python",
   "nbconvert_exporter": "python",
   "pygments_lexer": "ipython3",
   "version": "3.8.5"
  }
 },
 "nbformat": 4,
 "nbformat_minor": 5
}
